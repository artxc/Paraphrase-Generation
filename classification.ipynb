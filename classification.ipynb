{
 "cells": [
  {
   "cell_type": "code",
   "execution_count": 1,
   "metadata": {},
   "outputs": [],
   "source": [
    "%load_ext autoreload\n",
    "%autoreload 2"
   ]
  },
  {
   "cell_type": "code",
   "execution_count": 2,
   "metadata": {},
   "outputs": [],
   "source": [
    "import pandas as pd\n",
    "import numpy as np\n",
    "import matplotlib.pyplot as plt\n",
    "from data import *\n",
    "\n",
    "from sklearn.model_selection import train_test_split\n",
    "from sklearn.metrics import accuracy_score, confusion_matrix, f1_score\n",
    "from sklearn.model_selection import GridSearchCV\n",
    "from sklearn.preprocessing import StandardScaler, MinMaxScaler\n",
    "from sklearn.pipeline import Pipeline"
   ]
  },
  {
   "cell_type": "markdown",
   "metadata": {},
   "source": [
    "## Загрузим данные"
   ]
  },
  {
   "cell_type": "code",
   "execution_count": 3,
   "metadata": {},
   "outputs": [],
   "source": [
    "X, y = load_pkl('stats/X.pkl'), load_pkl('stats/y.pkl')"
   ]
  },
  {
   "cell_type": "code",
   "execution_count": 4,
   "metadata": {},
   "outputs": [],
   "source": [
    "X['para'] = load_pkl('stats/para.pkl')"
   ]
  },
  {
   "cell_type": "code",
   "execution_count": 5,
   "metadata": {},
   "outputs": [],
   "source": [
    "X['topp'] = [int(18 <= para_ind <= 23) for para_ind in X.para]"
   ]
  },
  {
   "cell_type": "code",
   "execution_count": 6,
   "metadata": {},
   "outputs": [],
   "source": [
    "y = y[X.topp < 1]\n",
    "X = X[X.topp < 1]"
   ]
  },
  {
   "cell_type": "code",
   "execution_count": 7,
   "metadata": {},
   "outputs": [
    {
     "name": "stdout",
     "output_type": "stream",
     "text": [
      "Размер датасета: 199\n"
     ]
    }
   ],
   "source": [
    "print(f'Размер датасета: {len(X)}')"
   ]
  },
  {
   "cell_type": "code",
   "execution_count": 8,
   "metadata": {},
   "outputs": [],
   "source": [
    "X = X.drop(['topp', 'para'], axis=1)"
   ]
  },
  {
   "cell_type": "code",
   "execution_count": 9,
   "metadata": {},
   "outputs": [
    {
     "data": {
      "text/html": [
       "<div>\n",
       "<style scoped>\n",
       "    .dataframe tbody tr th:only-of-type {\n",
       "        vertical-align: middle;\n",
       "    }\n",
       "\n",
       "    .dataframe tbody tr th {\n",
       "        vertical-align: top;\n",
       "    }\n",
       "\n",
       "    .dataframe thead th {\n",
       "        text-align: right;\n",
       "    }\n",
       "</style>\n",
       "<table border=\"1\" class=\"dataframe\">\n",
       "  <thead>\n",
       "    <tr style=\"text-align: right;\">\n",
       "      <th></th>\n",
       "      <th>bleu</th>\n",
       "      <th>rouge-l</th>\n",
       "      <th>wmd</th>\n",
       "      <th>pos</th>\n",
       "      <th>rouge-1</th>\n",
       "      <th>rouge-2</th>\n",
       "      <th>Levenshtein similarity</th>\n",
       "      <th>Additions proportion</th>\n",
       "      <th>Deletions proportion</th>\n",
       "    </tr>\n",
       "  </thead>\n",
       "  <tbody>\n",
       "    <tr>\n",
       "      <th>0</th>\n",
       "      <td>48.762546</td>\n",
       "      <td>0.734177</td>\n",
       "      <td>1.067048</td>\n",
       "      <td>3.102178</td>\n",
       "      <td>0.756098</td>\n",
       "      <td>0.550000</td>\n",
       "      <td>0.848352</td>\n",
       "      <td>0.227273</td>\n",
       "      <td>0.295455</td>\n",
       "    </tr>\n",
       "    <tr>\n",
       "      <th>1</th>\n",
       "      <td>47.346550</td>\n",
       "      <td>0.607595</td>\n",
       "      <td>1.055076</td>\n",
       "      <td>3.102178</td>\n",
       "      <td>0.780488</td>\n",
       "      <td>0.575000</td>\n",
       "      <td>0.631579</td>\n",
       "      <td>0.250000</td>\n",
       "      <td>0.340909</td>\n",
       "    </tr>\n",
       "    <tr>\n",
       "      <th>2</th>\n",
       "      <td>49.978468</td>\n",
       "      <td>0.650000</td>\n",
       "      <td>0.747549</td>\n",
       "      <td>3.102178</td>\n",
       "      <td>0.829268</td>\n",
       "      <td>0.625000</td>\n",
       "      <td>0.639130</td>\n",
       "      <td>0.227273</td>\n",
       "      <td>0.295455</td>\n",
       "    </tr>\n",
       "    <tr>\n",
       "      <th>4</th>\n",
       "      <td>56.111216</td>\n",
       "      <td>0.750000</td>\n",
       "      <td>0.800583</td>\n",
       "      <td>3.006511</td>\n",
       "      <td>0.800000</td>\n",
       "      <td>0.714286</td>\n",
       "      <td>0.810000</td>\n",
       "      <td>0.277778</td>\n",
       "      <td>0.166667</td>\n",
       "    </tr>\n",
       "    <tr>\n",
       "      <th>5</th>\n",
       "      <td>80.650086</td>\n",
       "      <td>0.866667</td>\n",
       "      <td>0.403395</td>\n",
       "      <td>0.000000</td>\n",
       "      <td>0.866667</td>\n",
       "      <td>0.857143</td>\n",
       "      <td>0.899471</td>\n",
       "      <td>0.125000</td>\n",
       "      <td>0.125000</td>\n",
       "    </tr>\n",
       "  </tbody>\n",
       "</table>\n",
       "</div>"
      ],
      "text/plain": [
       "        bleu   rouge-l       wmd       pos   rouge-1   rouge-2  \\\n",
       "0  48.762546  0.734177  1.067048  3.102178  0.756098  0.550000   \n",
       "1  47.346550  0.607595  1.055076  3.102178  0.780488  0.575000   \n",
       "2  49.978468  0.650000  0.747549  3.102178  0.829268  0.625000   \n",
       "4  56.111216  0.750000  0.800583  3.006511  0.800000  0.714286   \n",
       "5  80.650086  0.866667  0.403395  0.000000  0.866667  0.857143   \n",
       "\n",
       "   Levenshtein similarity  Additions proportion  Deletions proportion  \n",
       "0                0.848352              0.227273              0.295455  \n",
       "1                0.631579              0.250000              0.340909  \n",
       "2                0.639130              0.227273              0.295455  \n",
       "4                0.810000              0.277778              0.166667  \n",
       "5                0.899471              0.125000              0.125000  "
      ]
     },
     "execution_count": 9,
     "metadata": {},
     "output_type": "execute_result"
    }
   ],
   "source": [
    "X.head()"
   ]
  },
  {
   "cell_type": "code",
   "execution_count": 10,
   "metadata": {
    "scrolled": false
   },
   "outputs": [
    {
     "data": {
      "text/html": [
       "<div>\n",
       "<style scoped>\n",
       "    .dataframe tbody tr th:only-of-type {\n",
       "        vertical-align: middle;\n",
       "    }\n",
       "\n",
       "    .dataframe tbody tr th {\n",
       "        vertical-align: top;\n",
       "    }\n",
       "\n",
       "    .dataframe thead th {\n",
       "        text-align: right;\n",
       "    }\n",
       "</style>\n",
       "<table border=\"1\" class=\"dataframe\">\n",
       "  <thead>\n",
       "    <tr style=\"text-align: right;\">\n",
       "      <th></th>\n",
       "      <th>bleu</th>\n",
       "      <th>rouge-l</th>\n",
       "      <th>wmd</th>\n",
       "      <th>pos</th>\n",
       "      <th>rouge-1</th>\n",
       "      <th>rouge-2</th>\n",
       "      <th>Levenshtein similarity</th>\n",
       "      <th>Additions proportion</th>\n",
       "      <th>Deletions proportion</th>\n",
       "    </tr>\n",
       "  </thead>\n",
       "  <tbody>\n",
       "    <tr>\n",
       "      <th>count</th>\n",
       "      <td>199.000000</td>\n",
       "      <td>199.000000</td>\n",
       "      <td>199.000000</td>\n",
       "      <td>199.000000</td>\n",
       "      <td>199.000000</td>\n",
       "      <td>199.000000</td>\n",
       "      <td>199.000000</td>\n",
       "      <td>199.000000</td>\n",
       "      <td>199.000000</td>\n",
       "    </tr>\n",
       "    <tr>\n",
       "      <th>mean</th>\n",
       "      <td>50.945534</td>\n",
       "      <td>0.763147</td>\n",
       "      <td>0.666727</td>\n",
       "      <td>0.687342</td>\n",
       "      <td>0.798013</td>\n",
       "      <td>0.630711</td>\n",
       "      <td>0.843565</td>\n",
       "      <td>0.188180</td>\n",
       "      <td>0.213026</td>\n",
       "    </tr>\n",
       "    <tr>\n",
       "      <th>std</th>\n",
       "      <td>23.788701</td>\n",
       "      <td>0.139507</td>\n",
       "      <td>0.467887</td>\n",
       "      <td>1.221732</td>\n",
       "      <td>0.131163</td>\n",
       "      <td>0.193770</td>\n",
       "      <td>0.102335</td>\n",
       "      <td>0.116735</td>\n",
       "      <td>0.129217</td>\n",
       "    </tr>\n",
       "    <tr>\n",
       "      <th>min</th>\n",
       "      <td>0.000000</td>\n",
       "      <td>0.333333</td>\n",
       "      <td>0.000000</td>\n",
       "      <td>0.000000</td>\n",
       "      <td>0.400000</td>\n",
       "      <td>0.000000</td>\n",
       "      <td>0.533333</td>\n",
       "      <td>0.000000</td>\n",
       "      <td>0.000000</td>\n",
       "    </tr>\n",
       "    <tr>\n",
       "      <th>25%</th>\n",
       "      <td>38.638457</td>\n",
       "      <td>0.666667</td>\n",
       "      <td>0.330474</td>\n",
       "      <td>0.000000</td>\n",
       "      <td>0.714286</td>\n",
       "      <td>0.500000</td>\n",
       "      <td>0.783350</td>\n",
       "      <td>0.105263</td>\n",
       "      <td>0.116516</td>\n",
       "    </tr>\n",
       "    <tr>\n",
       "      <th>50%</th>\n",
       "      <td>50.957115</td>\n",
       "      <td>0.789474</td>\n",
       "      <td>0.585016</td>\n",
       "      <td>0.000000</td>\n",
       "      <td>0.827586</td>\n",
       "      <td>0.625000</td>\n",
       "      <td>0.860215</td>\n",
       "      <td>0.166667</td>\n",
       "      <td>0.200000</td>\n",
       "    </tr>\n",
       "    <tr>\n",
       "      <th>75%</th>\n",
       "      <td>66.773448</td>\n",
       "      <td>0.870833</td>\n",
       "      <td>0.938782</td>\n",
       "      <td>1.099617</td>\n",
       "      <td>0.892857</td>\n",
       "      <td>0.760000</td>\n",
       "      <td>0.914507</td>\n",
       "      <td>0.250000</td>\n",
       "      <td>0.312500</td>\n",
       "    </tr>\n",
       "    <tr>\n",
       "      <th>max</th>\n",
       "      <td>100.000000</td>\n",
       "      <td>1.000000</td>\n",
       "      <td>1.968615</td>\n",
       "      <td>6.214542</td>\n",
       "      <td>1.000000</td>\n",
       "      <td>1.000000</td>\n",
       "      <td>1.000000</td>\n",
       "      <td>0.666667</td>\n",
       "      <td>0.535714</td>\n",
       "    </tr>\n",
       "  </tbody>\n",
       "</table>\n",
       "</div>"
      ],
      "text/plain": [
       "             bleu     rouge-l         wmd         pos     rouge-1     rouge-2  \\\n",
       "count  199.000000  199.000000  199.000000  199.000000  199.000000  199.000000   \n",
       "mean    50.945534    0.763147    0.666727    0.687342    0.798013    0.630711   \n",
       "std     23.788701    0.139507    0.467887    1.221732    0.131163    0.193770   \n",
       "min      0.000000    0.333333    0.000000    0.000000    0.400000    0.000000   \n",
       "25%     38.638457    0.666667    0.330474    0.000000    0.714286    0.500000   \n",
       "50%     50.957115    0.789474    0.585016    0.000000    0.827586    0.625000   \n",
       "75%     66.773448    0.870833    0.938782    1.099617    0.892857    0.760000   \n",
       "max    100.000000    1.000000    1.968615    6.214542    1.000000    1.000000   \n",
       "\n",
       "       Levenshtein similarity  Additions proportion  Deletions proportion  \n",
       "count              199.000000            199.000000            199.000000  \n",
       "mean                 0.843565              0.188180              0.213026  \n",
       "std                  0.102335              0.116735              0.129217  \n",
       "min                  0.533333              0.000000              0.000000  \n",
       "25%                  0.783350              0.105263              0.116516  \n",
       "50%                  0.860215              0.166667              0.200000  \n",
       "75%                  0.914507              0.250000              0.312500  \n",
       "max                  1.000000              0.666667              0.535714  "
      ]
     },
     "execution_count": 10,
     "metadata": {},
     "output_type": "execute_result"
    }
   ],
   "source": [
    "X.describe()"
   ]
  },
  {
   "cell_type": "markdown",
   "metadata": {},
   "source": [
    "## Поделим на классы"
   ]
  },
  {
   "cell_type": "code",
   "execution_count": 11,
   "metadata": {},
   "outputs": [],
   "source": [
    "zero = y < 7\n",
    "one = y == 7\n",
    "two = y > 7"
   ]
  },
  {
   "cell_type": "code",
   "execution_count": 12,
   "metadata": {},
   "outputs": [],
   "source": [
    "y[zero] = 0\n",
    "y[one] = 1\n",
    "y[two] = 2"
   ]
  },
  {
   "cell_type": "code",
   "execution_count": 13,
   "metadata": {},
   "outputs": [],
   "source": [
    "y = y.astype(int)"
   ]
  },
  {
   "cell_type": "code",
   "execution_count": 14,
   "metadata": {},
   "outputs": [
    {
     "data": {
      "text/plain": [
       "(array([0, 1, 2]), array([63, 53, 83]))"
      ]
     },
     "execution_count": 14,
     "metadata": {},
     "output_type": "execute_result"
    }
   ],
   "source": [
    "np.unique(y, return_counts=True)"
   ]
  },
  {
   "cell_type": "markdown",
   "metadata": {},
   "source": [
    "## Поделим на train / test"
   ]
  },
  {
   "cell_type": "code",
   "execution_count": 15,
   "metadata": {},
   "outputs": [],
   "source": [
    "X_train, X_test, y_train, y_test = train_test_split(X, y, test_size=0.25, random_state=213123, shuffle=True, stratify=y)"
   ]
  },
  {
   "cell_type": "code",
   "execution_count": 16,
   "metadata": {},
   "outputs": [
    {
     "data": {
      "text/plain": [
       "(149, 50)"
      ]
     },
     "execution_count": 16,
     "metadata": {},
     "output_type": "execute_result"
    }
   ],
   "source": [
    "len(X_train), len(X_test)"
   ]
  },
  {
   "cell_type": "code",
   "execution_count": 17,
   "metadata": {
    "scrolled": false
   },
   "outputs": [
    {
     "name": "stdout",
     "output_type": "stream",
     "text": [
      "Train:\n",
      "2    62\n",
      "0    47\n",
      "1    40\n",
      "Name: label, dtype: int64\n",
      "\n",
      "Test:\n",
      "2    21\n",
      "0    16\n",
      "1    13\n",
      "Name: label, dtype: int64\n"
     ]
    }
   ],
   "source": [
    "print(f'Train:\\n{y_train.value_counts()}\\n')\n",
    "print(f'Test:\\n{y_test.value_counts()}')"
   ]
  },
  {
   "cell_type": "markdown",
   "metadata": {},
   "source": [
    "## Вспомогательная функция для Grid Search и вывода результатов"
   ]
  },
  {
   "cell_type": "code",
   "execution_count": 18,
   "metadata": {},
   "outputs": [],
   "source": [
    "def classification(model, params, scale=None):\n",
    "    if scale:\n",
    "        if scale == 'm':\n",
    "            print('MinMaxScaler')\n",
    "            pipe = Pipeline([('scaler', MinMaxScaler()), model])\n",
    "        else:\n",
    "            print('StandardScaler')\n",
    "            pipe = Pipeline([('scaler', StandardScaler()), model])\n",
    "    else:\n",
    "        print('No scaling')\n",
    "        pipe = Pipeline([model])\n",
    "    \n",
    "    grid = GridSearchCV(pipe, params, cv=5, n_jobs=-1)\n",
    "    grid.fit(X_train, y_train)\n",
    "    \n",
    "    y_pred = grid.predict(X_test)\n",
    "    print(f'Лучшие параметры: {grid.best_params_}')\n",
    "    print(f'Accuracy:{accuracy_score(y_test, y_pred)}, F1:{f1_score(y_test, y_pred, average=\"macro\")}')\n",
    "    print('Confusion matrix:')\n",
    "    print(pd.DataFrame(confusion_matrix(y_test, y_pred), columns=(0, 1, 2)))\n",
    "    \n",
    "    return grid"
   ]
  },
  {
   "cell_type": "markdown",
   "metadata": {},
   "source": [
    "## Logistic Regression"
   ]
  },
  {
   "cell_type": "code",
   "execution_count": 19,
   "metadata": {},
   "outputs": [],
   "source": [
    "from sklearn.linear_model import LogisticRegression"
   ]
  },
  {
   "cell_type": "code",
   "execution_count": 20,
   "metadata": {},
   "outputs": [
    {
     "name": "stdout",
     "output_type": "stream",
     "text": [
      "MinMaxScaler\n",
      "Лучшие параметры: {'logreg__C': 2}\n",
      "Accuracy:0.66, F1:0.5805539489750017\n",
      "Confusion matrix:\n",
      "    0  1   2\n",
      "0  15  1   0\n",
      "1   6  2   5\n",
      "2   2  3  16\n"
     ]
    }
   ],
   "source": [
    "log_reg_l2 = classification(('logreg', LogisticRegression()), scale='m', params={'logreg__C': [1e-3, 1e-2, 1e-1, 0, 1, 2, 3, 4, 5, 6, 7, 8, 9, 10]})"
   ]
  },
  {
   "cell_type": "code",
   "execution_count": 21,
   "metadata": {
    "scrolled": true
   },
   "outputs": [
    {
     "name": "stdout",
     "output_type": "stream",
     "text": [
      "['bleu', 'rouge-l', 'wmd', 'pos', 'rouge-1', 'rouge-2', 'Levenshtein similarity', 'Additions proportion', 'Deletions proportion']\n",
      "[[-5.29711640e-02  4.67948370e-01 -7.55892815e-01 -3.91755677e-01\n",
      "   9.06854437e-01  3.95260165e-01  9.45897583e-01 -6.30567555e-01\n",
      "   5.26489271e-01]\n",
      " [-6.00253869e-01  1.08156246e-01 -1.83272281e-03  1.01507902e+00\n",
      "   5.64964256e-02  1.59392550e-01  1.22960722e+00  4.66487163e-01\n",
      "  -1.82232713e-01]\n",
      " [ 6.53225033e-01 -5.76104615e-01  7.57725538e-01 -6.23323340e-01\n",
      "  -9.63350863e-01 -5.54652715e-01 -2.17550481e+00  1.64080392e-01\n",
      "  -3.44256558e-01]]\n"
     ]
    }
   ],
   "source": [
    "print(list(X.columns))\n",
    "print(log_reg_l2.best_estimator_[-1].coef_)"
   ]
  },
  {
   "cell_type": "markdown",
   "metadata": {},
   "source": [
    "## Деревья"
   ]
  },
  {
   "cell_type": "code",
   "execution_count": 22,
   "metadata": {},
   "outputs": [],
   "source": [
    "from sklearn.tree import DecisionTreeClassifier"
   ]
  },
  {
   "cell_type": "code",
   "execution_count": 23,
   "metadata": {},
   "outputs": [
    {
     "name": "stdout",
     "output_type": "stream",
     "text": [
      "No scaling\n",
      "Лучшие параметры: {'tree__max_depth': 2}\n",
      "Accuracy:0.62, F1:0.631297964631298\n",
      "Confusion matrix:\n",
      "    0  1   2\n",
      "0  10  6   0\n",
      "1   1  9   3\n",
      "2   0  9  12\n"
     ]
    }
   ],
   "source": [
    "tree = classification(('tree', DecisionTreeClassifier()), {'tree__max_depth': range(1, 10)})"
   ]
  },
  {
   "cell_type": "code",
   "execution_count": 24,
   "metadata": {},
   "outputs": [
    {
     "name": "stdout",
     "output_type": "stream",
     "text": [
      "2\n",
      "Levenshtein similarity:1.0, "
     ]
    }
   ],
   "source": [
    "print(tree.best_estimator_[-1].max_depth)\n",
    "for col, val in zip(X.columns, tree.best_estimator_[-1].feature_importances_):\n",
    "    if val:\n",
    "        print(f'{col}:{val},',end=' ')"
   ]
  },
  {
   "cell_type": "markdown",
   "metadata": {},
   "source": [
    "## Лес"
   ]
  },
  {
   "cell_type": "code",
   "execution_count": 25,
   "metadata": {},
   "outputs": [],
   "source": [
    "from sklearn.ensemble import RandomForestClassifier"
   ]
  },
  {
   "cell_type": "code",
   "execution_count": 26,
   "metadata": {},
   "outputs": [
    {
     "name": "stdout",
     "output_type": "stream",
     "text": [
      "Accuracy:0.66, F1:0.6352991452991453\n",
      "Confusion matrix:\n",
      "    0  1   2\n",
      "0  10  3   3\n",
      "1   0  5   8\n",
      "2   0  3  18\n",
      "\n",
      "Levenshtein similarity:0.26286605741067526,\n",
      "rouge-l:0.13199027098380592,\n",
      "rouge-2:0.12775802986381107,\n",
      "Additions proportion:0.11189211223301068,\n",
      "wmd:0.0858553890539397,\n",
      "rouge-1:0.08510101631101896,\n",
      "bleu:0.07654704445672743,\n",
      "Deletions proportion:0.07452784170064802,\n",
      "pos:0.04346223798636318,\n"
     ]
    }
   ],
   "source": [
    "forest = RandomForestClassifier(max_depth=5)\n",
    "forest.fit(X_train, y_train)\n",
    "\n",
    "y_pred = forest.predict(X_test)\n",
    "print(f'Accuracy:{accuracy_score(y_test, y_pred)}, F1:{f1_score(y_test, y_pred, average=\"macro\")}')\n",
    "print('Confusion matrix:')\n",
    "print(pd.DataFrame(confusion_matrix(y_test, y_pred), columns=(0, 1, 2)),end='\\n\\n')\n",
    "\n",
    "for val, col in sorted(zip(forest.feature_importances_, X.columns), key=lambda x: abs(x[0]), reverse=True):\n",
    "    print(f'{col}:{val},')"
   ]
  },
  {
   "cell_type": "markdown",
   "metadata": {},
   "source": [
    "## SVM"
   ]
  },
  {
   "cell_type": "code",
   "execution_count": 27,
   "metadata": {},
   "outputs": [],
   "source": [
    "from sklearn.svm import SVC"
   ]
  },
  {
   "cell_type": "code",
   "execution_count": 28,
   "metadata": {},
   "outputs": [],
   "source": [
    "param_grid = [\n",
    "  {'svm__C': [0, 1, 10, 100], 'svm__kernel': ['linear']},\n",
    "  {'svm__C': [0, 1, 10, 100], 'svm__gamma': [1e-2, 1e-1, 0, 1, 'auto'], 'svm__kernel': ['rbf']},\n",
    "  {'svm__C': [0, 1, 10, 100], 'svm__gamma': [1e-2, 1e-1, 0, 1, 'auto'], 'svm__kernel': ['poly'], 'svm__degree':[2, 3, 4, 5, 6, 7]}\n",
    " ]"
   ]
  },
  {
   "cell_type": "code",
   "execution_count": 29,
   "metadata": {},
   "outputs": [
    {
     "name": "stdout",
     "output_type": "stream",
     "text": [
      "StandardScaler\n",
      "Лучшие параметры: {'svm__C': 10, 'svm__gamma': 0.01, 'svm__kernel': 'rbf'}\n",
      "Accuracy:0.64, F1:0.6226082161566032\n",
      "Confusion matrix:\n",
      "   0  1   2\n",
      "0  9  7   0\n",
      "1  4  7   2\n",
      "2  2  3  16\n"
     ]
    }
   ],
   "source": [
    "svm = classification(('svm', SVC()), scale='s', params=param_grid)"
   ]
  },
  {
   "cell_type": "code",
   "execution_count": 30,
   "metadata": {},
   "outputs": [
    {
     "name": "stdout",
     "output_type": "stream",
     "text": [
      "MinMaxScaler\n",
      "Лучшие параметры: {'svm__C': 1, 'svm__gamma': 1, 'svm__kernel': 'rbf'}\n",
      "Accuracy:0.62, F1:0.5909090909090909\n",
      "Confusion matrix:\n",
      "   0  1   2\n",
      "0  9  7   0\n",
      "1  2  5   6\n",
      "2  1  3  17\n"
     ]
    }
   ],
   "source": [
    "svm = classification(('svm', SVC()), scale='m', params=param_grid)"
   ]
  },
  {
   "cell_type": "markdown",
   "metadata": {},
   "source": [
    "## Bagging"
   ]
  },
  {
   "cell_type": "code",
   "execution_count": 31,
   "metadata": {},
   "outputs": [],
   "source": [
    "from sklearn.ensemble import BaggingClassifier"
   ]
  },
  {
   "cell_type": "code",
   "execution_count": 32,
   "metadata": {},
   "outputs": [
    {
     "name": "stdout",
     "output_type": "stream",
     "text": [
      "Accuracy:0.74, F1:0.718700414102713\n",
      "Confusion matrix:\n",
      "    0  1   2\n",
      "0  10  6   0\n",
      "1   1  8   4\n",
      "2   0  2  19\n"
     ]
    },
    {
     "data": {
      "text/plain": [
       "[(0.7320554840016348, 'Levenshtein similarity'),\n",
       " (0.11380988744854696, 'rouge-l'),\n",
       " (0.04151351830916326, 'Additions proportion'),\n",
       " (0.033679494868312655, 'pos'),\n",
       " (0.02264576412638545, 'bleu'),\n",
       " (0.02172483658441582, 'rouge-2'),\n",
       " (0.019518812254613965, 'rouge-1'),\n",
       " (0.013854200481250585, 'wmd'),\n",
       " (0.0011980019256761973, 'Deletions proportion')]"
      ]
     },
     "execution_count": 32,
     "metadata": {},
     "output_type": "execute_result"
    }
   ],
   "source": [
    "bag = BaggingClassifier(DecisionTreeClassifier(max_depth=2), 100, random_state=42)\n",
    "bag.fit(X_train, y_train)\n",
    "y_pred = bag.predict(X_test)\n",
    "\n",
    "print(f'Accuracy:{accuracy_score(y_test, y_pred)}, F1:{f1_score(y_test, y_pred, average=\"macro\")}')\n",
    "print('Confusion matrix:')\n",
    "print(pd.DataFrame(confusion_matrix(y_test, y_pred), columns=(0, 1, 2)))\n",
    "\n",
    "imps = np.mean([tree.feature_importances_ for tree in bag.estimators_], axis=0)\n",
    "sorted([(imp, ft) for imp, ft in zip(imps, X.columns)], key=lambda x: x[0], reverse=True)"
   ]
  },
  {
   "cell_type": "code",
   "execution_count": 33,
   "metadata": {},
   "outputs": [],
   "source": [
    "# save_pkl(bag, 'classification_tree_bag_acc74_f72.pkl')"
   ]
  }
 ],
 "metadata": {
  "kernelspec": {
   "display_name": "Python 3",
   "language": "python",
   "name": "python3"
  },
  "language_info": {
   "codemirror_mode": {
    "name": "ipython",
    "version": 3
   },
   "file_extension": ".py",
   "mimetype": "text/x-python",
   "name": "python",
   "nbconvert_exporter": "python",
   "pygments_lexer": "ipython3",
   "version": "3.7.5"
  }
 },
 "nbformat": 4,
 "nbformat_minor": 4
}
