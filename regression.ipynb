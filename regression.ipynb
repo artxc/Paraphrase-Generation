{
 "cells": [
  {
   "cell_type": "code",
   "execution_count": 1,
   "metadata": {},
   "outputs": [],
   "source": [
    "%load_ext autoreload\n",
    "%autoreload 2"
   ]
  },
  {
   "cell_type": "code",
   "execution_count": 2,
   "metadata": {},
   "outputs": [],
   "source": [
    "import pandas as pd\n",
    "import numpy as np\n",
    "import matplotlib.pyplot as plt\n",
    "from data import *\n",
    "\n",
    "from sklearn.model_selection import train_test_split\n",
    "from sklearn.metrics import r2_score, mean_squared_error, mean_absolute_error\n",
    "from sklearn.model_selection import GridSearchCV\n",
    "from sklearn.preprocessing import StandardScaler, MinMaxScaler\n",
    "from sklearn.pipeline import Pipeline"
   ]
  },
  {
   "cell_type": "markdown",
   "metadata": {},
   "source": [
    "## Загрузим данные"
   ]
  },
  {
   "cell_type": "code",
   "execution_count": 3,
   "metadata": {},
   "outputs": [],
   "source": [
    "X, y = load_pkl('stats/X.pkl'), load_pkl('stats/y.pkl')"
   ]
  },
  {
   "cell_type": "code",
   "execution_count": 4,
   "metadata": {},
   "outputs": [],
   "source": [
    "X['para'] = load_pkl('stats/para.pkl')"
   ]
  },
  {
   "cell_type": "code",
   "execution_count": 5,
   "metadata": {},
   "outputs": [],
   "source": [
    "X['topp'] = [int(18 <= para_ind <= 23) for para_ind in X.para]"
   ]
  },
  {
   "cell_type": "code",
   "execution_count": 6,
   "metadata": {},
   "outputs": [],
   "source": [
    "y = y[X.topp < 1]\n",
    "X = X[X.topp < 1]"
   ]
  },
  {
   "cell_type": "code",
   "execution_count": 7,
   "metadata": {},
   "outputs": [
    {
     "name": "stdout",
     "output_type": "stream",
     "text": [
      "Размер датасета: 199\n"
     ]
    }
   ],
   "source": [
    "print(f'Размер датасета: {len(X)}')"
   ]
  },
  {
   "cell_type": "code",
   "execution_count": 8,
   "metadata": {},
   "outputs": [],
   "source": [
    "X = X.drop(['topp', 'para'], axis=1)"
   ]
  },
  {
   "cell_type": "code",
   "execution_count": 9,
   "metadata": {},
   "outputs": [
    {
     "data": {
      "text/html": [
       "<div>\n",
       "<style scoped>\n",
       "    .dataframe tbody tr th:only-of-type {\n",
       "        vertical-align: middle;\n",
       "    }\n",
       "\n",
       "    .dataframe tbody tr th {\n",
       "        vertical-align: top;\n",
       "    }\n",
       "\n",
       "    .dataframe thead th {\n",
       "        text-align: right;\n",
       "    }\n",
       "</style>\n",
       "<table border=\"1\" class=\"dataframe\">\n",
       "  <thead>\n",
       "    <tr style=\"text-align: right;\">\n",
       "      <th></th>\n",
       "      <th>bleu</th>\n",
       "      <th>rouge-l</th>\n",
       "      <th>wmd</th>\n",
       "      <th>pos</th>\n",
       "      <th>rouge-1</th>\n",
       "      <th>rouge-2</th>\n",
       "      <th>Levenshtein similarity</th>\n",
       "      <th>Additions proportion</th>\n",
       "      <th>Deletions proportion</th>\n",
       "    </tr>\n",
       "  </thead>\n",
       "  <tbody>\n",
       "    <tr>\n",
       "      <th>0</th>\n",
       "      <td>48.762546</td>\n",
       "      <td>0.734177</td>\n",
       "      <td>1.067048</td>\n",
       "      <td>3.102178</td>\n",
       "      <td>0.756098</td>\n",
       "      <td>0.550000</td>\n",
       "      <td>0.848352</td>\n",
       "      <td>0.227273</td>\n",
       "      <td>0.295455</td>\n",
       "    </tr>\n",
       "    <tr>\n",
       "      <th>1</th>\n",
       "      <td>47.346550</td>\n",
       "      <td>0.607595</td>\n",
       "      <td>1.055076</td>\n",
       "      <td>3.102178</td>\n",
       "      <td>0.780488</td>\n",
       "      <td>0.575000</td>\n",
       "      <td>0.631579</td>\n",
       "      <td>0.250000</td>\n",
       "      <td>0.340909</td>\n",
       "    </tr>\n",
       "    <tr>\n",
       "      <th>2</th>\n",
       "      <td>49.978468</td>\n",
       "      <td>0.650000</td>\n",
       "      <td>0.747549</td>\n",
       "      <td>3.102178</td>\n",
       "      <td>0.829268</td>\n",
       "      <td>0.625000</td>\n",
       "      <td>0.639130</td>\n",
       "      <td>0.227273</td>\n",
       "      <td>0.295455</td>\n",
       "    </tr>\n",
       "    <tr>\n",
       "      <th>4</th>\n",
       "      <td>56.111216</td>\n",
       "      <td>0.750000</td>\n",
       "      <td>0.800583</td>\n",
       "      <td>3.006511</td>\n",
       "      <td>0.800000</td>\n",
       "      <td>0.714286</td>\n",
       "      <td>0.810000</td>\n",
       "      <td>0.277778</td>\n",
       "      <td>0.166667</td>\n",
       "    </tr>\n",
       "    <tr>\n",
       "      <th>5</th>\n",
       "      <td>80.650086</td>\n",
       "      <td>0.866667</td>\n",
       "      <td>0.403395</td>\n",
       "      <td>0.000000</td>\n",
       "      <td>0.866667</td>\n",
       "      <td>0.857143</td>\n",
       "      <td>0.899471</td>\n",
       "      <td>0.125000</td>\n",
       "      <td>0.125000</td>\n",
       "    </tr>\n",
       "  </tbody>\n",
       "</table>\n",
       "</div>"
      ],
      "text/plain": [
       "        bleu   rouge-l       wmd       pos   rouge-1   rouge-2  \\\n",
       "0  48.762546  0.734177  1.067048  3.102178  0.756098  0.550000   \n",
       "1  47.346550  0.607595  1.055076  3.102178  0.780488  0.575000   \n",
       "2  49.978468  0.650000  0.747549  3.102178  0.829268  0.625000   \n",
       "4  56.111216  0.750000  0.800583  3.006511  0.800000  0.714286   \n",
       "5  80.650086  0.866667  0.403395  0.000000  0.866667  0.857143   \n",
       "\n",
       "   Levenshtein similarity  Additions proportion  Deletions proportion  \n",
       "0                0.848352              0.227273              0.295455  \n",
       "1                0.631579              0.250000              0.340909  \n",
       "2                0.639130              0.227273              0.295455  \n",
       "4                0.810000              0.277778              0.166667  \n",
       "5                0.899471              0.125000              0.125000  "
      ]
     },
     "execution_count": 9,
     "metadata": {},
     "output_type": "execute_result"
    }
   ],
   "source": [
    "X.head()"
   ]
  },
  {
   "cell_type": "code",
   "execution_count": 10,
   "metadata": {},
   "outputs": [
    {
     "data": {
      "text/html": [
       "<div>\n",
       "<style scoped>\n",
       "    .dataframe tbody tr th:only-of-type {\n",
       "        vertical-align: middle;\n",
       "    }\n",
       "\n",
       "    .dataframe tbody tr th {\n",
       "        vertical-align: top;\n",
       "    }\n",
       "\n",
       "    .dataframe thead th {\n",
       "        text-align: right;\n",
       "    }\n",
       "</style>\n",
       "<table border=\"1\" class=\"dataframe\">\n",
       "  <thead>\n",
       "    <tr style=\"text-align: right;\">\n",
       "      <th></th>\n",
       "      <th>bleu</th>\n",
       "      <th>rouge-l</th>\n",
       "      <th>wmd</th>\n",
       "      <th>pos</th>\n",
       "      <th>rouge-1</th>\n",
       "      <th>rouge-2</th>\n",
       "      <th>Levenshtein similarity</th>\n",
       "      <th>Additions proportion</th>\n",
       "      <th>Deletions proportion</th>\n",
       "    </tr>\n",
       "  </thead>\n",
       "  <tbody>\n",
       "    <tr>\n",
       "      <th>count</th>\n",
       "      <td>199.000000</td>\n",
       "      <td>199.000000</td>\n",
       "      <td>199.000000</td>\n",
       "      <td>199.000000</td>\n",
       "      <td>199.000000</td>\n",
       "      <td>199.000000</td>\n",
       "      <td>199.000000</td>\n",
       "      <td>199.000000</td>\n",
       "      <td>199.000000</td>\n",
       "    </tr>\n",
       "    <tr>\n",
       "      <th>mean</th>\n",
       "      <td>50.945534</td>\n",
       "      <td>0.763147</td>\n",
       "      <td>0.666727</td>\n",
       "      <td>0.687342</td>\n",
       "      <td>0.798013</td>\n",
       "      <td>0.630711</td>\n",
       "      <td>0.843565</td>\n",
       "      <td>0.188180</td>\n",
       "      <td>0.213026</td>\n",
       "    </tr>\n",
       "    <tr>\n",
       "      <th>std</th>\n",
       "      <td>23.788701</td>\n",
       "      <td>0.139507</td>\n",
       "      <td>0.467887</td>\n",
       "      <td>1.221732</td>\n",
       "      <td>0.131163</td>\n",
       "      <td>0.193770</td>\n",
       "      <td>0.102335</td>\n",
       "      <td>0.116735</td>\n",
       "      <td>0.129217</td>\n",
       "    </tr>\n",
       "    <tr>\n",
       "      <th>min</th>\n",
       "      <td>0.000000</td>\n",
       "      <td>0.333333</td>\n",
       "      <td>0.000000</td>\n",
       "      <td>0.000000</td>\n",
       "      <td>0.400000</td>\n",
       "      <td>0.000000</td>\n",
       "      <td>0.533333</td>\n",
       "      <td>0.000000</td>\n",
       "      <td>0.000000</td>\n",
       "    </tr>\n",
       "    <tr>\n",
       "      <th>25%</th>\n",
       "      <td>38.638457</td>\n",
       "      <td>0.666667</td>\n",
       "      <td>0.330474</td>\n",
       "      <td>0.000000</td>\n",
       "      <td>0.714286</td>\n",
       "      <td>0.500000</td>\n",
       "      <td>0.783350</td>\n",
       "      <td>0.105263</td>\n",
       "      <td>0.116516</td>\n",
       "    </tr>\n",
       "    <tr>\n",
       "      <th>50%</th>\n",
       "      <td>50.957115</td>\n",
       "      <td>0.789474</td>\n",
       "      <td>0.585016</td>\n",
       "      <td>0.000000</td>\n",
       "      <td>0.827586</td>\n",
       "      <td>0.625000</td>\n",
       "      <td>0.860215</td>\n",
       "      <td>0.166667</td>\n",
       "      <td>0.200000</td>\n",
       "    </tr>\n",
       "    <tr>\n",
       "      <th>75%</th>\n",
       "      <td>66.773448</td>\n",
       "      <td>0.870833</td>\n",
       "      <td>0.938782</td>\n",
       "      <td>1.099617</td>\n",
       "      <td>0.892857</td>\n",
       "      <td>0.760000</td>\n",
       "      <td>0.914507</td>\n",
       "      <td>0.250000</td>\n",
       "      <td>0.312500</td>\n",
       "    </tr>\n",
       "    <tr>\n",
       "      <th>max</th>\n",
       "      <td>100.000000</td>\n",
       "      <td>1.000000</td>\n",
       "      <td>1.968615</td>\n",
       "      <td>6.214542</td>\n",
       "      <td>1.000000</td>\n",
       "      <td>1.000000</td>\n",
       "      <td>1.000000</td>\n",
       "      <td>0.666667</td>\n",
       "      <td>0.535714</td>\n",
       "    </tr>\n",
       "  </tbody>\n",
       "</table>\n",
       "</div>"
      ],
      "text/plain": [
       "             bleu     rouge-l         wmd         pos     rouge-1     rouge-2  \\\n",
       "count  199.000000  199.000000  199.000000  199.000000  199.000000  199.000000   \n",
       "mean    50.945534    0.763147    0.666727    0.687342    0.798013    0.630711   \n",
       "std     23.788701    0.139507    0.467887    1.221732    0.131163    0.193770   \n",
       "min      0.000000    0.333333    0.000000    0.000000    0.400000    0.000000   \n",
       "25%     38.638457    0.666667    0.330474    0.000000    0.714286    0.500000   \n",
       "50%     50.957115    0.789474    0.585016    0.000000    0.827586    0.625000   \n",
       "75%     66.773448    0.870833    0.938782    1.099617    0.892857    0.760000   \n",
       "max    100.000000    1.000000    1.968615    6.214542    1.000000    1.000000   \n",
       "\n",
       "       Levenshtein similarity  Additions proportion  Deletions proportion  \n",
       "count              199.000000            199.000000            199.000000  \n",
       "mean                 0.843565              0.188180              0.213026  \n",
       "std                  0.102335              0.116735              0.129217  \n",
       "min                  0.533333              0.000000              0.000000  \n",
       "25%                  0.783350              0.105263              0.116516  \n",
       "50%                  0.860215              0.166667              0.200000  \n",
       "75%                  0.914507              0.250000              0.312500  \n",
       "max                  1.000000              0.666667              0.535714  "
      ]
     },
     "execution_count": 10,
     "metadata": {},
     "output_type": "execute_result"
    }
   ],
   "source": [
    "X.describe()"
   ]
  },
  {
   "cell_type": "code",
   "execution_count": 11,
   "metadata": {},
   "outputs": [],
   "source": [
    "y = y.astype(int)"
   ]
  },
  {
   "cell_type": "markdown",
   "metadata": {},
   "source": [
    "## Поделим на Train / Test"
   ]
  },
  {
   "cell_type": "code",
   "execution_count": 12,
   "metadata": {},
   "outputs": [],
   "source": [
    "X_train, X_test, y_train, y_test = train_test_split(X, y, test_size=0.25, random_state=213123, shuffle=True, stratify=y)"
   ]
  },
  {
   "cell_type": "code",
   "execution_count": 13,
   "metadata": {
    "scrolled": false
   },
   "outputs": [
    {
     "data": {
      "text/plain": [
       "(149, 50)"
      ]
     },
     "execution_count": 13,
     "metadata": {},
     "output_type": "execute_result"
    }
   ],
   "source": [
    "len(X_train), len(X_test)"
   ]
  },
  {
   "cell_type": "markdown",
   "metadata": {},
   "source": [
    "## Вспомогательная функция для Grid Search и вывода результатов"
   ]
  },
  {
   "cell_type": "code",
   "execution_count": 14,
   "metadata": {},
   "outputs": [],
   "source": [
    "def regression(pipe, params):\n",
    "    grid = GridSearchCV(pipe, params, cv=5, n_jobs=-1)\n",
    "    grid.fit(X_train, y_train)\n",
    "    \n",
    "    y_pred = grid.predict(X_test)\n",
    "    print(f'Лучшие параметры: {grid.best_params_}')\n",
    "    print(f'RMSE:{np.sqrt(mean_squared_error(y_test, y_pred))}, R2:{r2_score(y_test, y_pred)}, MAE:{mean_absolute_error(y_test, y_pred)}')\n",
    "    \n",
    "    df1 = pd.DataFrame({'Actual': y_test, 'Predicted': y_pred})\n",
    "    df1.plot(kind='bar',figsize=(25,5)).legend(bbox_to_anchor=(1.2, 0.5))\n",
    "    plt.grid(which='major', linestyle='-', linewidth='0.5', color='green')\n",
    "    plt.grid(which='minor', linestyle=':', linewidth='0.5', color='black')\n",
    "    plt.show()\n",
    "    \n",
    "    return grid"
   ]
  },
  {
   "cell_type": "markdown",
   "metadata": {},
   "source": [
    "## Ridge"
   ]
  },
  {
   "cell_type": "code",
   "execution_count": 15,
   "metadata": {},
   "outputs": [],
   "source": [
    "from sklearn.linear_model import Ridge"
   ]
  },
  {
   "cell_type": "code",
   "execution_count": 16,
   "metadata": {},
   "outputs": [
    {
     "name": "stdout",
     "output_type": "stream",
     "text": [
      "Лучшие параметры: {'ridge__alpha': 1}\n",
      "RMSE:1.3517831403895417, R2:0.15791812965833574, MAE:0.9612858834392337\n"
     ]
    },
    {
     "data": {
      "image/png": "[encoded data removed]",
      "text/plain": [
       "<Figure size 1800x360 with 1 Axes>"
      ]
     },
     "metadata": {
      "needs_background": "light"
     },
     "output_type": "display_data"
    }
   ],
   "source": [
    "ridge = regression(Pipeline([('scaler', MinMaxScaler()), ('ridge', Ridge())]), {'ridge__alpha': [0, 1e-3, 1e-2, 1e-1, 1, 2, 3, 4, 5, 6, 7, 8, 9, 10]})"
   ]
  },
  {
   "cell_type": "code",
   "execution_count": 17,
   "metadata": {},
   "outputs": [
    {
     "name": "stdout",
     "output_type": "stream",
     "text": [
      "Levenshtein similarity:-1.9760072371790085,\n",
      "rouge-1:-1.11097497221801,\n",
      "rouge-2:-0.9488513961113775,\n",
      "Deletions proportion:-0.6443701072331897,\n",
      "pos:0.596178903348235,\n",
      "rouge-l:-0.5685522917002621,\n",
      "Additions proportion:-0.34457519235657647,\n",
      "bleu:0.1322399660896214,\n",
      "wmd:-0.03232817260038826,\n"
     ]
    }
   ],
   "source": [
    "for val, col in sorted(zip(ridge.best_estimator_[-1].coef_, X.columns), key=lambda x: abs(x[0]), reverse=True):\n",
    "    print(f'{col}:{val},')"
   ]
  },
  {
   "cell_type": "markdown",
   "metadata": {},
   "source": [
    "## Обычная регрессия"
   ]
  },
  {
   "cell_type": "code",
   "execution_count": 18,
   "metadata": {},
   "outputs": [],
   "source": [
    "from sklearn.linear_model import LinearRegression"
   ]
  },
  {
   "cell_type": "code",
   "execution_count": 19,
   "metadata": {},
   "outputs": [
    {
     "name": "stdout",
     "output_type": "stream",
     "text": [
      "Лучшие параметры: {}\n",
      "RMSE:1.3493055175604318, R2:0.16100212916173962, MAE:0.9135539476235484\n"
     ]
    },
    {
     "data": {
      "image/png": "[encoded data removed]",
      "text/plain": [
       "<Figure size 1800x360 with 1 Axes>"
      ]
     },
     "metadata": {
      "needs_background": "light"
     },
     "output_type": "display_data"
    }
   ],
   "source": [
    "reg = regression(Pipeline([('scaler', MinMaxScaler()),('linear', LinearRegression())]), {})"
   ]
  },
  {
   "cell_type": "code",
   "execution_count": 20,
   "metadata": {},
   "outputs": [
    {
     "name": "stdout",
     "output_type": "stream",
     "text": [
      "Levenshtein similarity:-4.787022582406884,\n",
      "rouge-1:-3.591965989663905,\n",
      "rouge-l:3.2638586401020473,\n",
      "Deletions proportion:-2.3340014908088498,\n",
      "rouge-2:-2.26105876933585,\n",
      "wmd:-0.8271771473970148,\n",
      "Additions proportion:0.7459045505637258,\n",
      "pos:0.6591465175724949,\n",
      "bleu:0.49654638762621484,\n"
     ]
    }
   ],
   "source": [
    "for val, col in sorted(zip(reg.best_estimator_[-1].coef_, X.columns), key=lambda x: abs(x[0]), reverse=True):\n",
    "    print(f'{col}:{val},')"
   ]
  },
  {
   "cell_type": "markdown",
   "metadata": {},
   "source": [
    "## Lasso"
   ]
  },
  {
   "cell_type": "code",
   "execution_count": 21,
   "metadata": {},
   "outputs": [],
   "source": [
    "from sklearn.linear_model import Lasso"
   ]
  },
  {
   "cell_type": "code",
   "execution_count": 22,
   "metadata": {},
   "outputs": [
    {
     "name": "stdout",
     "output_type": "stream",
     "text": [
      "Лучшие параметры: {'lasso__alpha': 0.001}\n",
      "RMSE:1.351562198023004, R2:0.1581933755185373, MAE:0.9278467216684553\n"
     ]
    },
    {
     "data": {
      "image/png": "[encoded data removed]",
      "text/plain": [
       "<Figure size 1800x360 with 1 Axes>"
      ]
     },
     "metadata": {
      "needs_background": "light"
     },
     "output_type": "display_data"
    }
   ],
   "source": [
    "lasso = regression(Pipeline([('lasso', Lasso())]), {'lasso__alpha': [1e-3, 1e-2, 1e-1, 0, 1, 2, 3, 4, 5, 6, 7, 8, 9, 10]})"
   ]
  },
  {
   "cell_type": "code",
   "execution_count": 23,
   "metadata": {},
   "outputs": [
    {
     "name": "stdout",
     "output_type": "stream",
     "text": [
      "Levenshtein similarity:-7.519239720958897,\n",
      "rouge-1:-4.11541792703436,\n",
      "Deletions proportion:-3.0307014782982074,\n",
      "rouge-l:1.9271282850895592,\n",
      "rouge-2:-1.7729637810081567,\n",
      "wmd:-0.2803710013184158,\n",
      "pos:0.11012453905190635,\n",
      "Additions proportion:0.037578094348237584,\n",
      "bleu:0.0038566819689753585,\n"
     ]
    }
   ],
   "source": [
    "for val, col in sorted(zip(lasso.best_estimator_[-1].coef_, X.columns), key=lambda x: abs(x[0]), reverse=True):\n",
    "    print(f'{col}:{val},')"
   ]
  },
  {
   "cell_type": "markdown",
   "metadata": {},
   "source": [
    "## Деревья"
   ]
  },
  {
   "cell_type": "code",
   "execution_count": 24,
   "metadata": {},
   "outputs": [],
   "source": [
    "from sklearn.tree import DecisionTreeRegressor"
   ]
  },
  {
   "cell_type": "code",
   "execution_count": 25,
   "metadata": {},
   "outputs": [
    {
     "name": "stdout",
     "output_type": "stream",
     "text": [
      "Лучшие параметры: {'tree__max_depth': 1}\n",
      "RMSE:1.3056412911681659, R2:0.21442434045932013, MAE:0.9554716981132075\n"
     ]
    },
    {
     "data": {
      "image/png": "[encoded data removed]",
      "text/plain": [
       "<Figure size 1800x360 with 1 Axes>"
      ]
     },
     "metadata": {
      "needs_background": "light"
     },
     "output_type": "display_data"
    }
   ],
   "source": [
    "tree = regression(Pipeline([('tree', DecisionTreeRegressor())]), {'tree__max_depth': range(1, 10)})"
   ]
  },
  {
   "cell_type": "code",
   "execution_count": 26,
   "metadata": {},
   "outputs": [
    {
     "name": "stdout",
     "output_type": "stream",
     "text": [
      "Levenshtein similarity:1.0,\n",
      "bleu:0.0,\n",
      "rouge-l:0.0,\n",
      "wmd:0.0,\n",
      "pos:0.0,\n",
      "rouge-1:0.0,\n",
      "rouge-2:0.0,\n",
      "Additions proportion:0.0,\n",
      "Deletions proportion:0.0,\n"
     ]
    }
   ],
   "source": [
    "for val, col in sorted(zip(tree.best_estimator_[-1].feature_importances_, X.columns), key=lambda x: abs(x[0]), reverse=True):\n",
    "    print(f'{col}:{val},')"
   ]
  },
  {
   "cell_type": "markdown",
   "metadata": {},
   "source": [
    "## Лес"
   ]
  },
  {
   "cell_type": "code",
   "execution_count": 27,
   "metadata": {},
   "outputs": [],
   "source": [
    "from sklearn.ensemble import RandomForestRegressor"
   ]
  },
  {
   "cell_type": "code",
   "execution_count": 28,
   "metadata": {},
   "outputs": [
    {
     "name": "stdout",
     "output_type": "stream",
     "text": [
      "RMSE:1.1877438883929865, R2:0.3498914541866861, MAE:0.7858545352401474\n"
     ]
    },
    {
     "data": {
      "image/png": "[encoded data removed]",
      "text/plain": [
       "<Figure size 1800x360 with 1 Axes>"
      ]
     },
     "metadata": {
      "needs_background": "light"
     },
     "output_type": "display_data"
    },
    {
     "name": "stdout",
     "output_type": "stream",
     "text": [
      "Levenshtein similarity:0.29679041776599957,\n",
      "rouge-2:0.2036914139238062,\n",
      "rouge-l:0.1749589280711512,\n",
      "Additions proportion:0.08062655770083506,\n",
      "rouge-1:0.05895319638247184,\n",
      "Deletions proportion:0.05670147948913054,\n",
      "wmd:0.05353074171422039,\n",
      "bleu:0.03948163261598587,\n",
      "pos:0.03526563233639919,\n"
     ]
    }
   ],
   "source": [
    "forest = RandomForestRegressor(max_depth=7, n_estimators=100)\n",
    "forest.fit(X_train, y_train)\n",
    "\n",
    "y_pred = forest.predict(X_test)\n",
    "print(f'RMSE:{np.sqrt(mean_squared_error(y_test, y_pred))}, R2:{r2_score(y_test, y_pred)}, MAE:{mean_absolute_error(y_test, y_pred)}')\n",
    "\n",
    "df1 = pd.DataFrame({'Actual': y_test, 'Predicted': y_pred})\n",
    "df1.plot(kind='bar',figsize=(25,5)).legend(bbox_to_anchor=(1.2, 0.5))\n",
    "plt.grid(which='major', linestyle='-', linewidth='0.5', color='green')\n",
    "plt.grid(which='minor', linestyle=':', linewidth='0.5', color='black')\n",
    "plt.show()\n",
    "\n",
    "for val, col in sorted(zip(forest.feature_importances_, X.columns), key=lambda x: abs(x[0]), reverse=True):\n",
    "    print(f'{col}:{val},')"
   ]
  },
  {
   "cell_type": "code",
   "execution_count": 29,
   "metadata": {},
   "outputs": [],
   "source": [
    "# save_pkl(forest, 'regression_forest_maxdepth_7_rsq_35_mae_076_tree_100.pkl')"
   ]
  },
  {
   "cell_type": "markdown",
   "metadata": {},
   "source": [
    "## SVR"
   ]
  },
  {
   "cell_type": "code",
   "execution_count": 30,
   "metadata": {},
   "outputs": [],
   "source": [
    "from sklearn.svm import SVR"
   ]
  },
  {
   "cell_type": "code",
   "execution_count": 31,
   "metadata": {},
   "outputs": [],
   "source": [
    "param_grid = [\n",
    "  {'svm__C': [0, 1, 10, 100], 'svm__gamma': [1e-2, 1e-1, 0, 1, 'auto'], 'svm__kernel': ['rbf']},\n",
    "  {'svm__C': [0, 1, 10, 100], 'svm__gamma': [1e-2, 1e-1, 0, 1, 'auto'], 'svm__kernel': ['poly'], 'svm__degree':[2, 3, 4, 5, 6, 7]}\n",
    " ]"
   ]
  },
  {
   "cell_type": "code",
   "execution_count": 32,
   "metadata": {},
   "outputs": [
    {
     "name": "stdout",
     "output_type": "stream",
     "text": [
      "Лучшие параметры: {'svm__C': 1, 'svm__gamma': 1, 'svm__kernel': 'rbf'}\n",
      "RMSE:1.3056726544718753, R2:0.21438659878542232, MAE:0.8729921447741918\n"
     ]
    },
    {
     "data": {
      "image/png": "[encoded data removed]",
      "text/plain": [
       "<Figure size 1800x360 with 1 Axes>"
      ]
     },
     "metadata": {
      "needs_background": "light"
     },
     "output_type": "display_data"
    }
   ],
   "source": [
    "svm = regression(Pipeline([('scaler', MinMaxScaler()), ('svm', SVR())]), param_grid)"
   ]
  }
 ],
 "metadata": {
  "kernelspec": {
   "display_name": "Python 3",
   "language": "python",
   "name": "python3"
  },
  "language_info": {
   "codemirror_mode": {
    "name": "ipython",
    "version": 3
   },
   "file_extension": ".py",
   "mimetype": "text/x-python",
   "name": "python",
   "nbconvert_exporter": "python",
   "pygments_lexer": "ipython3",
   "version": "3.7.5"
  }
 },
 "nbformat": 4,
 "nbformat_minor": 4
}
