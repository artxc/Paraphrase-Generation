{
 "cells": [
  {
   "cell_type": "code",
   "execution_count": 1,
   "metadata": {},
   "outputs": [],
   "source": [
    "import pandas as pd\n",
    "import numpy as np\n",
    "\n",
    "from data import *"
   ]
  },
  {
   "cell_type": "markdown",
   "metadata": {},
   "source": [
    "## Загружаем номер предложения, номер примера парафраза для предложения и оценку для данной пары"
   ]
  },
  {
   "cell_type": "code",
   "execution_count": 2,
   "metadata": {},
   "outputs": [],
   "source": [
    "labels = load_pkl('stats/new_labels.pkl')"
   ]
  },
  {
   "cell_type": "code",
   "execution_count": 3,
   "metadata": {},
   "outputs": [
    {
     "name": "stdout",
     "output_type": "stream",
     "text": [
      "Размер датасета: 278\n"
     ]
    }
   ],
   "source": [
    "print(f'Размер датасета: {sum(len(value) for value in labels.values())}')"
   ]
  },
  {
   "cell_type": "code",
   "execution_count": 4,
   "metadata": {},
   "outputs": [],
   "source": [
    "data = [[key, data[0], data[1]] for key in labels for data in labels[key]]"
   ]
  },
  {
   "cell_type": "code",
   "execution_count": 5,
   "metadata": {},
   "outputs": [],
   "source": [
    "df = pd.DataFrame(data=data, columns=('sent', 'para', 'label'))"
   ]
  },
  {
   "cell_type": "code",
   "execution_count": 6,
   "metadata": {},
   "outputs": [
    {
     "data": {
      "text/html": [
       "<div>\n",
       "<style scoped>\n",
       "    .dataframe tbody tr th:only-of-type {\n",
       "        vertical-align: middle;\n",
       "    }\n",
       "\n",
       "    .dataframe tbody tr th {\n",
       "        vertical-align: top;\n",
       "    }\n",
       "\n",
       "    .dataframe thead th {\n",
       "        text-align: right;\n",
       "    }\n",
       "</style>\n",
       "<table border=\"1\" class=\"dataframe\">\n",
       "  <thead>\n",
       "    <tr style=\"text-align: right;\">\n",
       "      <th></th>\n",
       "      <th>sent</th>\n",
       "      <th>para</th>\n",
       "      <th>label</th>\n",
       "    </tr>\n",
       "  </thead>\n",
       "  <tbody>\n",
       "    <tr>\n",
       "      <th>0</th>\n",
       "      <td>82771</td>\n",
       "      <td>3</td>\n",
       "      <td>7.0</td>\n",
       "    </tr>\n",
       "    <tr>\n",
       "      <th>1</th>\n",
       "      <td>82771</td>\n",
       "      <td>24</td>\n",
       "      <td>10.0</td>\n",
       "    </tr>\n",
       "    <tr>\n",
       "      <th>2</th>\n",
       "      <td>82771</td>\n",
       "      <td>15</td>\n",
       "      <td>9.0</td>\n",
       "    </tr>\n",
       "    <tr>\n",
       "      <th>3</th>\n",
       "      <td>82771</td>\n",
       "      <td>18</td>\n",
       "      <td>2.0</td>\n",
       "    </tr>\n",
       "    <tr>\n",
       "      <th>4</th>\n",
       "      <td>24820</td>\n",
       "      <td>4</td>\n",
       "      <td>9.0</td>\n",
       "    </tr>\n",
       "  </tbody>\n",
       "</table>\n",
       "</div>"
      ],
      "text/plain": [
       "    sent  para  label\n",
       "0  82771     3    7.0\n",
       "1  82771    24   10.0\n",
       "2  82771    15    9.0\n",
       "3  82771    18    2.0\n",
       "4  24820     4    9.0"
      ]
     },
     "execution_count": 6,
     "metadata": {},
     "output_type": "execute_result"
    }
   ],
   "source": [
    "df.head()"
   ]
  },
  {
   "cell_type": "code",
   "execution_count": 7,
   "metadata": {},
   "outputs": [
    {
     "data": {
      "text/plain": [
       "7.0     57\n",
       "8.0     46\n",
       "6.0     40\n",
       "0.0     31\n",
       "9.0     30\n",
       "4.0     18\n",
       "5.0     18\n",
       "1.0     13\n",
       "3.0      9\n",
       "10.0     8\n",
       "2.0      5\n",
       "7.3      1\n",
       "6.5      1\n",
       "7.5      1\n",
       "Name: label, dtype: int64"
      ]
     },
     "execution_count": 7,
     "metadata": {},
     "output_type": "execute_result"
    }
   ],
   "source": [
    "df.label.value_counts()"
   ]
  },
  {
   "cell_type": "code",
   "execution_count": 8,
   "metadata": {},
   "outputs": [
    {
     "data": {
      "text/plain": [
       "<matplotlib.axes._subplots.AxesSubplot at 0x7f5ac061e690>"
      ]
     },
     "execution_count": 8,
     "metadata": {},
     "output_type": "execute_result"
    },
    {
     "data": {
      "image/png": "[encoded data removed]",
      "text/plain": [
       "<Figure size 432x288 with 1 Axes>"
      ]
     },
     "metadata": {
      "needs_background": "light"
     },
     "output_type": "display_data"
    }
   ],
   "source": [
    "df.label.hist()"
   ]
  },
  {
   "cell_type": "markdown",
   "metadata": {},
   "source": [
    "## Загрузим признаки"
   ]
  },
  {
   "cell_type": "code",
   "execution_count": 9,
   "metadata": {},
   "outputs": [],
   "source": [
    "stats = load_pkl('stats/stats.pkl')"
   ]
  },
  {
   "cell_type": "code",
   "execution_count": 10,
   "metadata": {},
   "outputs": [
    {
     "data": {
      "text/plain": [
       "['bleu', 'rouge-l', 'wmd', 'pos', 'rouge-1', 'rouge-2']"
      ]
     },
     "execution_count": 10,
     "metadata": {},
     "output_type": "execute_result"
    }
   ],
   "source": [
    "list(stats.keys())"
   ]
  },
  {
   "cell_type": "code",
   "execution_count": 11,
   "metadata": {},
   "outputs": [],
   "source": [
    "sent, para = df.sent, df.para\n",
    "for key in stats.keys():\n",
    "    df[key] = [stats[key][sent.iloc[i]][para.iloc[i]] for i in range(len(df))]"
   ]
  },
  {
   "cell_type": "code",
   "execution_count": 12,
   "metadata": {},
   "outputs": [
    {
     "data": {
      "text/html": [
       "<div>\n",
       "<style scoped>\n",
       "    .dataframe tbody tr th:only-of-type {\n",
       "        vertical-align: middle;\n",
       "    }\n",
       "\n",
       "    .dataframe tbody tr th {\n",
       "        vertical-align: top;\n",
       "    }\n",
       "\n",
       "    .dataframe thead th {\n",
       "        text-align: right;\n",
       "    }\n",
       "</style>\n",
       "<table border=\"1\" class=\"dataframe\">\n",
       "  <thead>\n",
       "    <tr style=\"text-align: right;\">\n",
       "      <th></th>\n",
       "      <th>sent</th>\n",
       "      <th>para</th>\n",
       "      <th>label</th>\n",
       "      <th>bleu</th>\n",
       "      <th>rouge-l</th>\n",
       "      <th>wmd</th>\n",
       "      <th>pos</th>\n",
       "      <th>rouge-1</th>\n",
       "      <th>rouge-2</th>\n",
       "    </tr>\n",
       "  </thead>\n",
       "  <tbody>\n",
       "    <tr>\n",
       "      <th>0</th>\n",
       "      <td>82771</td>\n",
       "      <td>3</td>\n",
       "      <td>7.0</td>\n",
       "      <td>48.762546</td>\n",
       "      <td>0.734177</td>\n",
       "      <td>1.067048</td>\n",
       "      <td>3.102178</td>\n",
       "      <td>0.756098</td>\n",
       "      <td>0.550000</td>\n",
       "    </tr>\n",
       "    <tr>\n",
       "      <th>1</th>\n",
       "      <td>82771</td>\n",
       "      <td>24</td>\n",
       "      <td>10.0</td>\n",
       "      <td>47.346550</td>\n",
       "      <td>0.607595</td>\n",
       "      <td>1.055076</td>\n",
       "      <td>3.102178</td>\n",
       "      <td>0.780488</td>\n",
       "      <td>0.575000</td>\n",
       "    </tr>\n",
       "    <tr>\n",
       "      <th>2</th>\n",
       "      <td>82771</td>\n",
       "      <td>15</td>\n",
       "      <td>9.0</td>\n",
       "      <td>49.978468</td>\n",
       "      <td>0.650000</td>\n",
       "      <td>0.747549</td>\n",
       "      <td>3.102178</td>\n",
       "      <td>0.829268</td>\n",
       "      <td>0.625000</td>\n",
       "    </tr>\n",
       "    <tr>\n",
       "      <th>3</th>\n",
       "      <td>82771</td>\n",
       "      <td>18</td>\n",
       "      <td>2.0</td>\n",
       "      <td>42.287164</td>\n",
       "      <td>0.602410</td>\n",
       "      <td>1.115363</td>\n",
       "      <td>1.034059</td>\n",
       "      <td>0.804878</td>\n",
       "      <td>0.550000</td>\n",
       "    </tr>\n",
       "    <tr>\n",
       "      <th>4</th>\n",
       "      <td>24820</td>\n",
       "      <td>4</td>\n",
       "      <td>9.0</td>\n",
       "      <td>56.111216</td>\n",
       "      <td>0.750000</td>\n",
       "      <td>0.800583</td>\n",
       "      <td>3.006511</td>\n",
       "      <td>0.800000</td>\n",
       "      <td>0.714286</td>\n",
       "    </tr>\n",
       "  </tbody>\n",
       "</table>\n",
       "</div>"
      ],
      "text/plain": [
       "    sent  para  label       bleu   rouge-l       wmd       pos   rouge-1  \\\n",
       "0  82771     3    7.0  48.762546  0.734177  1.067048  3.102178  0.756098   \n",
       "1  82771    24   10.0  47.346550  0.607595  1.055076  3.102178  0.780488   \n",
       "2  82771    15    9.0  49.978468  0.650000  0.747549  3.102178  0.829268   \n",
       "3  82771    18    2.0  42.287164  0.602410  1.115363  1.034059  0.804878   \n",
       "4  24820     4    9.0  56.111216  0.750000  0.800583  3.006511  0.800000   \n",
       "\n",
       "    rouge-2  \n",
       "0  0.550000  \n",
       "1  0.575000  \n",
       "2  0.625000  \n",
       "3  0.550000  \n",
       "4  0.714286  "
      ]
     },
     "execution_count": 12,
     "metadata": {},
     "output_type": "execute_result"
    }
   ],
   "source": [
    "df.head()"
   ]
  },
  {
   "cell_type": "markdown",
   "metadata": {},
   "source": [
    "## Добавим Quality Estimation features"
   ]
  },
  {
   "cell_type": "code",
   "execution_count": 13,
   "metadata": {},
   "outputs": [],
   "source": [
    "quality = load_pkl('stats/quality_df_200000.pkl')"
   ]
  },
  {
   "cell_type": "code",
   "execution_count": 14,
   "metadata": {},
   "outputs": [],
   "source": [
    "for key in quality[0]:\n",
    "    df[key] = [q[key] for q in quality]"
   ]
  },
  {
   "cell_type": "code",
   "execution_count": 15,
   "metadata": {},
   "outputs": [
    {
     "data": {
      "text/html": [
       "<div>\n",
       "<style scoped>\n",
       "    .dataframe tbody tr th:only-of-type {\n",
       "        vertical-align: middle;\n",
       "    }\n",
       "\n",
       "    .dataframe tbody tr th {\n",
       "        vertical-align: top;\n",
       "    }\n",
       "\n",
       "    .dataframe thead th {\n",
       "        text-align: right;\n",
       "    }\n",
       "</style>\n",
       "<table border=\"1\" class=\"dataframe\">\n",
       "  <thead>\n",
       "    <tr style=\"text-align: right;\">\n",
       "      <th></th>\n",
       "      <th>sent</th>\n",
       "      <th>para</th>\n",
       "      <th>label</th>\n",
       "      <th>bleu</th>\n",
       "      <th>rouge-l</th>\n",
       "      <th>wmd</th>\n",
       "      <th>pos</th>\n",
       "      <th>rouge-1</th>\n",
       "      <th>rouge-2</th>\n",
       "      <th>Compression ratio</th>\n",
       "      <th>Sentence splits</th>\n",
       "      <th>Levenshtein similarity</th>\n",
       "      <th>Exact copies</th>\n",
       "      <th>Additions proportion</th>\n",
       "      <th>Deletions proportion</th>\n",
       "      <th>Lexical complexity score</th>\n",
       "    </tr>\n",
       "  </thead>\n",
       "  <tbody>\n",
       "    <tr>\n",
       "      <th>0</th>\n",
       "      <td>82771</td>\n",
       "      <td>3</td>\n",
       "      <td>7.0</td>\n",
       "      <td>48.762546</td>\n",
       "      <td>0.734177</td>\n",
       "      <td>1.067048</td>\n",
       "      <td>3.102178</td>\n",
       "      <td>0.756098</td>\n",
       "      <td>0.550000</td>\n",
       "      <td>0.961207</td>\n",
       "      <td>1.0</td>\n",
       "      <td>0.848352</td>\n",
       "      <td>0.0</td>\n",
       "      <td>0.227273</td>\n",
       "      <td>0.295455</td>\n",
       "      <td>9.222132</td>\n",
       "    </tr>\n",
       "    <tr>\n",
       "      <th>1</th>\n",
       "      <td>82771</td>\n",
       "      <td>24</td>\n",
       "      <td>10.0</td>\n",
       "      <td>47.346550</td>\n",
       "      <td>0.607595</td>\n",
       "      <td>1.055076</td>\n",
       "      <td>3.102178</td>\n",
       "      <td>0.780488</td>\n",
       "      <td>0.575000</td>\n",
       "      <td>0.965517</td>\n",
       "      <td>1.0</td>\n",
       "      <td>0.631579</td>\n",
       "      <td>0.0</td>\n",
       "      <td>0.250000</td>\n",
       "      <td>0.340909</td>\n",
       "      <td>8.813677</td>\n",
       "    </tr>\n",
       "    <tr>\n",
       "      <th>2</th>\n",
       "      <td>82771</td>\n",
       "      <td>15</td>\n",
       "      <td>9.0</td>\n",
       "      <td>49.978468</td>\n",
       "      <td>0.650000</td>\n",
       "      <td>0.747549</td>\n",
       "      <td>3.102178</td>\n",
       "      <td>0.829268</td>\n",
       "      <td>0.625000</td>\n",
       "      <td>0.982759</td>\n",
       "      <td>1.0</td>\n",
       "      <td>0.639130</td>\n",
       "      <td>0.0</td>\n",
       "      <td>0.227273</td>\n",
       "      <td>0.295455</td>\n",
       "      <td>8.441575</td>\n",
       "    </tr>\n",
       "    <tr>\n",
       "      <th>3</th>\n",
       "      <td>82771</td>\n",
       "      <td>18</td>\n",
       "      <td>2.0</td>\n",
       "      <td>42.287164</td>\n",
       "      <td>0.602410</td>\n",
       "      <td>1.115363</td>\n",
       "      <td>1.034059</td>\n",
       "      <td>0.804878</td>\n",
       "      <td>0.550000</td>\n",
       "      <td>1.073276</td>\n",
       "      <td>1.0</td>\n",
       "      <td>0.619543</td>\n",
       "      <td>0.0</td>\n",
       "      <td>0.266667</td>\n",
       "      <td>0.244444</td>\n",
       "      <td>8.866849</td>\n",
       "    </tr>\n",
       "    <tr>\n",
       "      <th>4</th>\n",
       "      <td>24820</td>\n",
       "      <td>4</td>\n",
       "      <td>9.0</td>\n",
       "      <td>56.111216</td>\n",
       "      <td>0.750000</td>\n",
       "      <td>0.800583</td>\n",
       "      <td>3.006511</td>\n",
       "      <td>0.800000</td>\n",
       "      <td>0.714286</td>\n",
       "      <td>1.105263</td>\n",
       "      <td>1.0</td>\n",
       "      <td>0.810000</td>\n",
       "      <td>0.0</td>\n",
       "      <td>0.277778</td>\n",
       "      <td>0.166667</td>\n",
       "      <td>8.445822</td>\n",
       "    </tr>\n",
       "  </tbody>\n",
       "</table>\n",
       "</div>"
      ],
      "text/plain": [
       "    sent  para  label       bleu   rouge-l       wmd       pos   rouge-1  \\\n",
       "0  82771     3    7.0  48.762546  0.734177  1.067048  3.102178  0.756098   \n",
       "1  82771    24   10.0  47.346550  0.607595  1.055076  3.102178  0.780488   \n",
       "2  82771    15    9.0  49.978468  0.650000  0.747549  3.102178  0.829268   \n",
       "3  82771    18    2.0  42.287164  0.602410  1.115363  1.034059  0.804878   \n",
       "4  24820     4    9.0  56.111216  0.750000  0.800583  3.006511  0.800000   \n",
       "\n",
       "    rouge-2  Compression ratio  Sentence splits  Levenshtein similarity  \\\n",
       "0  0.550000           0.961207              1.0                0.848352   \n",
       "1  0.575000           0.965517              1.0                0.631579   \n",
       "2  0.625000           0.982759              1.0                0.639130   \n",
       "3  0.550000           1.073276              1.0                0.619543   \n",
       "4  0.714286           1.105263              1.0                0.810000   \n",
       "\n",
       "   Exact copies  Additions proportion  Deletions proportion  \\\n",
       "0           0.0              0.227273              0.295455   \n",
       "1           0.0              0.250000              0.340909   \n",
       "2           0.0              0.227273              0.295455   \n",
       "3           0.0              0.266667              0.244444   \n",
       "4           0.0              0.277778              0.166667   \n",
       "\n",
       "   Lexical complexity score  \n",
       "0                  9.222132  \n",
       "1                  8.813677  \n",
       "2                  8.441575  \n",
       "3                  8.866849  \n",
       "4                  8.445822  "
      ]
     },
     "execution_count": 15,
     "metadata": {},
     "output_type": "execute_result"
    }
   ],
   "source": [
    "df.head()"
   ]
  },
  {
   "cell_type": "markdown",
   "metadata": {},
   "source": [
    "## Удaлим ненужные столбцы"
   ]
  },
  {
   "cell_type": "code",
   "execution_count": 16,
   "metadata": {},
   "outputs": [],
   "source": [
    "sent, para = df.sent, df.para"
   ]
  },
  {
   "cell_type": "code",
   "execution_count": 17,
   "metadata": {},
   "outputs": [],
   "source": [
    "df = df.drop(['sent', 'para', 'Compression ratio', 'Sentence splits', 'Exact copies', 'Lexical complexity score'] ,axis=1)"
   ]
  },
  {
   "cell_type": "code",
   "execution_count": 18,
   "metadata": {},
   "outputs": [
    {
     "data": {
      "text/html": [
       "<div>\n",
       "<style scoped>\n",
       "    .dataframe tbody tr th:only-of-type {\n",
       "        vertical-align: middle;\n",
       "    }\n",
       "\n",
       "    .dataframe tbody tr th {\n",
       "        vertical-align: top;\n",
       "    }\n",
       "\n",
       "    .dataframe thead th {\n",
       "        text-align: right;\n",
       "    }\n",
       "</style>\n",
       "<table border=\"1\" class=\"dataframe\">\n",
       "  <thead>\n",
       "    <tr style=\"text-align: right;\">\n",
       "      <th></th>\n",
       "      <th>label</th>\n",
       "      <th>bleu</th>\n",
       "      <th>rouge-l</th>\n",
       "      <th>wmd</th>\n",
       "      <th>pos</th>\n",
       "      <th>rouge-1</th>\n",
       "      <th>rouge-2</th>\n",
       "      <th>Levenshtein similarity</th>\n",
       "      <th>Additions proportion</th>\n",
       "      <th>Deletions proportion</th>\n",
       "    </tr>\n",
       "  </thead>\n",
       "  <tbody>\n",
       "    <tr>\n",
       "      <th>0</th>\n",
       "      <td>7.0</td>\n",
       "      <td>48.762546</td>\n",
       "      <td>0.734177</td>\n",
       "      <td>1.067048</td>\n",
       "      <td>3.102178</td>\n",
       "      <td>0.756098</td>\n",
       "      <td>0.550000</td>\n",
       "      <td>0.848352</td>\n",
       "      <td>0.227273</td>\n",
       "      <td>0.295455</td>\n",
       "    </tr>\n",
       "    <tr>\n",
       "      <th>1</th>\n",
       "      <td>10.0</td>\n",
       "      <td>47.346550</td>\n",
       "      <td>0.607595</td>\n",
       "      <td>1.055076</td>\n",
       "      <td>3.102178</td>\n",
       "      <td>0.780488</td>\n",
       "      <td>0.575000</td>\n",
       "      <td>0.631579</td>\n",
       "      <td>0.250000</td>\n",
       "      <td>0.340909</td>\n",
       "    </tr>\n",
       "    <tr>\n",
       "      <th>2</th>\n",
       "      <td>9.0</td>\n",
       "      <td>49.978468</td>\n",
       "      <td>0.650000</td>\n",
       "      <td>0.747549</td>\n",
       "      <td>3.102178</td>\n",
       "      <td>0.829268</td>\n",
       "      <td>0.625000</td>\n",
       "      <td>0.639130</td>\n",
       "      <td>0.227273</td>\n",
       "      <td>0.295455</td>\n",
       "    </tr>\n",
       "    <tr>\n",
       "      <th>3</th>\n",
       "      <td>2.0</td>\n",
       "      <td>42.287164</td>\n",
       "      <td>0.602410</td>\n",
       "      <td>1.115363</td>\n",
       "      <td>1.034059</td>\n",
       "      <td>0.804878</td>\n",
       "      <td>0.550000</td>\n",
       "      <td>0.619543</td>\n",
       "      <td>0.266667</td>\n",
       "      <td>0.244444</td>\n",
       "    </tr>\n",
       "    <tr>\n",
       "      <th>4</th>\n",
       "      <td>9.0</td>\n",
       "      <td>56.111216</td>\n",
       "      <td>0.750000</td>\n",
       "      <td>0.800583</td>\n",
       "      <td>3.006511</td>\n",
       "      <td>0.800000</td>\n",
       "      <td>0.714286</td>\n",
       "      <td>0.810000</td>\n",
       "      <td>0.277778</td>\n",
       "      <td>0.166667</td>\n",
       "    </tr>\n",
       "  </tbody>\n",
       "</table>\n",
       "</div>"
      ],
      "text/plain": [
       "   label       bleu   rouge-l       wmd       pos   rouge-1   rouge-2  \\\n",
       "0    7.0  48.762546  0.734177  1.067048  3.102178  0.756098  0.550000   \n",
       "1   10.0  47.346550  0.607595  1.055076  3.102178  0.780488  0.575000   \n",
       "2    9.0  49.978468  0.650000  0.747549  3.102178  0.829268  0.625000   \n",
       "3    2.0  42.287164  0.602410  1.115363  1.034059  0.804878  0.550000   \n",
       "4    9.0  56.111216  0.750000  0.800583  3.006511  0.800000  0.714286   \n",
       "\n",
       "   Levenshtein similarity  Additions proportion  Deletions proportion  \n",
       "0                0.848352              0.227273              0.295455  \n",
       "1                0.631579              0.250000              0.340909  \n",
       "2                0.639130              0.227273              0.295455  \n",
       "3                0.619543              0.266667              0.244444  \n",
       "4                0.810000              0.277778              0.166667  "
      ]
     },
     "execution_count": 18,
     "metadata": {},
     "output_type": "execute_result"
    }
   ],
   "source": [
    "df.head()"
   ]
  },
  {
   "cell_type": "code",
   "execution_count": 19,
   "metadata": {
    "scrolled": true
   },
   "outputs": [
    {
     "data": {
      "text/html": [
       "<div>\n",
       "<style scoped>\n",
       "    .dataframe tbody tr th:only-of-type {\n",
       "        vertical-align: middle;\n",
       "    }\n",
       "\n",
       "    .dataframe tbody tr th {\n",
       "        vertical-align: top;\n",
       "    }\n",
       "\n",
       "    .dataframe thead th {\n",
       "        text-align: right;\n",
       "    }\n",
       "</style>\n",
       "<table border=\"1\" class=\"dataframe\">\n",
       "  <thead>\n",
       "    <tr style=\"text-align: right;\">\n",
       "      <th></th>\n",
       "      <th>label</th>\n",
       "      <th>bleu</th>\n",
       "      <th>rouge-l</th>\n",
       "      <th>wmd</th>\n",
       "      <th>pos</th>\n",
       "      <th>rouge-1</th>\n",
       "      <th>rouge-2</th>\n",
       "      <th>Levenshtein similarity</th>\n",
       "      <th>Additions proportion</th>\n",
       "      <th>Deletions proportion</th>\n",
       "    </tr>\n",
       "  </thead>\n",
       "  <tbody>\n",
       "    <tr>\n",
       "      <th>count</th>\n",
       "      <td>278.000000</td>\n",
       "      <td>278.000000</td>\n",
       "      <td>278.000000</td>\n",
       "      <td>278.000000</td>\n",
       "      <td>278.000000</td>\n",
       "      <td>278.000000</td>\n",
       "      <td>278.000000</td>\n",
       "      <td>278.000000</td>\n",
       "      <td>278.000000</td>\n",
       "      <td>278.000000</td>\n",
       "    </tr>\n",
       "    <tr>\n",
       "      <th>mean</th>\n",
       "      <td>5.720504</td>\n",
       "      <td>44.915571</td>\n",
       "      <td>0.719310</td>\n",
       "      <td>0.833854</td>\n",
       "      <td>1.136251</td>\n",
       "      <td>0.760827</td>\n",
       "      <td>0.575301</td>\n",
       "      <td>0.811395</td>\n",
       "      <td>0.233643</td>\n",
       "      <td>0.244615</td>\n",
       "    </tr>\n",
       "    <tr>\n",
       "      <th>std</th>\n",
       "      <td>2.889963</td>\n",
       "      <td>25.195414</td>\n",
       "      <td>0.164685</td>\n",
       "      <td>0.589100</td>\n",
       "      <td>1.946484</td>\n",
       "      <td>0.154199</td>\n",
       "      <td>0.215261</td>\n",
       "      <td>0.119995</td>\n",
       "      <td>0.146008</td>\n",
       "      <td>0.147038</td>\n",
       "    </tr>\n",
       "    <tr>\n",
       "      <th>min</th>\n",
       "      <td>0.000000</td>\n",
       "      <td>0.000000</td>\n",
       "      <td>0.111111</td>\n",
       "      <td>0.000000</td>\n",
       "      <td>0.000000</td>\n",
       "      <td>0.129032</td>\n",
       "      <td>0.000000</td>\n",
       "      <td>0.421053</td>\n",
       "      <td>0.000000</td>\n",
       "      <td>0.000000</td>\n",
       "    </tr>\n",
       "    <tr>\n",
       "      <th>25%</th>\n",
       "      <td>4.000000</td>\n",
       "      <td>27.343140</td>\n",
       "      <td>0.613030</td>\n",
       "      <td>0.412904</td>\n",
       "      <td>0.000000</td>\n",
       "      <td>0.666667</td>\n",
       "      <td>0.428571</td>\n",
       "      <td>0.736842</td>\n",
       "      <td>0.125000</td>\n",
       "      <td>0.134091</td>\n",
       "    </tr>\n",
       "    <tr>\n",
       "      <th>50%</th>\n",
       "      <td>7.000000</td>\n",
       "      <td>45.561645</td>\n",
       "      <td>0.733755</td>\n",
       "      <td>0.745893</td>\n",
       "      <td>0.000000</td>\n",
       "      <td>0.769231</td>\n",
       "      <td>0.571429</td>\n",
       "      <td>0.833333</td>\n",
       "      <td>0.211324</td>\n",
       "      <td>0.233032</td>\n",
       "    </tr>\n",
       "    <tr>\n",
       "      <th>75%</th>\n",
       "      <td>8.000000</td>\n",
       "      <td>62.891961</td>\n",
       "      <td>0.846154</td>\n",
       "      <td>1.190179</td>\n",
       "      <td>1.612747</td>\n",
       "      <td>0.875000</td>\n",
       "      <td>0.714286</td>\n",
       "      <td>0.902296</td>\n",
       "      <td>0.312500</td>\n",
       "      <td>0.346154</td>\n",
       "    </tr>\n",
       "    <tr>\n",
       "      <th>max</th>\n",
       "      <td>10.000000</td>\n",
       "      <td>100.000000</td>\n",
       "      <td>1.000000</td>\n",
       "      <td>3.238264</td>\n",
       "      <td>10.380987</td>\n",
       "      <td>1.000000</td>\n",
       "      <td>1.000000</td>\n",
       "      <td>1.000000</td>\n",
       "      <td>0.760000</td>\n",
       "      <td>0.875000</td>\n",
       "    </tr>\n",
       "  </tbody>\n",
       "</table>\n",
       "</div>"
      ],
      "text/plain": [
       "            label        bleu     rouge-l         wmd         pos     rouge-1  \\\n",
       "count  278.000000  278.000000  278.000000  278.000000  278.000000  278.000000   \n",
       "mean     5.720504   44.915571    0.719310    0.833854    1.136251    0.760827   \n",
       "std      2.889963   25.195414    0.164685    0.589100    1.946484    0.154199   \n",
       "min      0.000000    0.000000    0.111111    0.000000    0.000000    0.129032   \n",
       "25%      4.000000   27.343140    0.613030    0.412904    0.000000    0.666667   \n",
       "50%      7.000000   45.561645    0.733755    0.745893    0.000000    0.769231   \n",
       "75%      8.000000   62.891961    0.846154    1.190179    1.612747    0.875000   \n",
       "max     10.000000  100.000000    1.000000    3.238264   10.380987    1.000000   \n",
       "\n",
       "          rouge-2  Levenshtein similarity  Additions proportion  \\\n",
       "count  278.000000              278.000000            278.000000   \n",
       "mean     0.575301                0.811395              0.233643   \n",
       "std      0.215261                0.119995              0.146008   \n",
       "min      0.000000                0.421053              0.000000   \n",
       "25%      0.428571                0.736842              0.125000   \n",
       "50%      0.571429                0.833333              0.211324   \n",
       "75%      0.714286                0.902296              0.312500   \n",
       "max      1.000000                1.000000              0.760000   \n",
       "\n",
       "       Deletions proportion  \n",
       "count            278.000000  \n",
       "mean               0.244615  \n",
       "std                0.147038  \n",
       "min                0.000000  \n",
       "25%                0.134091  \n",
       "50%                0.233032  \n",
       "75%                0.346154  \n",
       "max                0.875000  "
      ]
     },
     "execution_count": 19,
     "metadata": {},
     "output_type": "execute_result"
    }
   ],
   "source": [
    "df.describe()"
   ]
  },
  {
   "cell_type": "markdown",
   "metadata": {},
   "source": [
    "## Сохраним датасет"
   ]
  },
  {
   "cell_type": "code",
   "execution_count": 20,
   "metadata": {},
   "outputs": [],
   "source": [
    "y = df.label"
   ]
  },
  {
   "cell_type": "code",
   "execution_count": 21,
   "metadata": {},
   "outputs": [],
   "source": [
    "df = df.drop(['label'], axis=1)"
   ]
  },
  {
   "cell_type": "code",
   "execution_count": 22,
   "metadata": {},
   "outputs": [],
   "source": [
    "save_pkl(y, 'stats/y.pkl')"
   ]
  },
  {
   "cell_type": "code",
   "execution_count": 23,
   "metadata": {},
   "outputs": [],
   "source": [
    "save_pkl(df, 'stats/X.pkl')"
   ]
  },
  {
   "cell_type": "code",
   "execution_count": 24,
   "metadata": {},
   "outputs": [],
   "source": [
    "save_pkl(sent, 'stats/sent.pkl')"
   ]
  },
  {
   "cell_type": "code",
   "execution_count": 25,
   "metadata": {},
   "outputs": [],
   "source": [
    "save_pkl(para, 'stats/para.pkl')"
   ]
  }
 ],
 "metadata": {
  "kernelspec": {
   "display_name": "Python 3",
   "language": "python",
   "name": "python3"
  },
  "language_info": {
   "codemirror_mode": {
    "name": "ipython",
    "version": 3
   },
   "file_extension": ".py",
   "mimetype": "text/x-python",
   "name": "python",
   "nbconvert_exporter": "python",
   "pygments_lexer": "ipython3",
   "version": "3.7.5"
  }
 },
 "nbformat": 4,
 "nbformat_minor": 4
}
